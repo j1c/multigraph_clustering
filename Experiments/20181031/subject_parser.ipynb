{
 "cells": [
  {
   "cell_type": "code",
   "execution_count": 1,
   "metadata": {},
   "outputs": [],
   "source": [
    "import os\n",
    "\n",
    "import networkx as nx\n",
    "import numpy as np\n",
    "import pandas as pd\n",
    "\n",
    "from graspy.utils import import_graph, pass_to_ranks\n",
    "from graspy.embed import OmnibusEmbed, ClassicalMDS\n",
    "from graspy.cluster import GaussianCluster\n",
    "from graspy.plot import heatmap, pairplot\n",
    "\n",
    "import warnings\n",
    "warnings.filterwarnings(\"ignore\")\n",
    "\n",
    "%matplotlib inline"
   ]
  },
  {
   "cell_type": "code",
   "execution_count": 2,
   "metadata": {},
   "outputs": [],
   "source": [
    "def import_edgelist(path, nodetype=int, delimiter=None):\n",
    "    \"\"\"\n",
    "    Function for reading an edgelist and returning a numpy array.\n",
    "    The order of nodes are sorted by node values.\n",
    "\n",
    "    Parameters\n",
    "    ----------\n",
    "    path : str\n",
    "    delimiter : str, optional\n",
    "    \n",
    "    Returns\n",
    "    -------\n",
    "    graph : array-like, shape (n_vertices, n_vertices)\n",
    "        Adjacency matrix of the graph created from edgelist.\n",
    "    \"\"\"\n",
    "    G = nx.read_weighted_edgelist(path, delimiter=delimiter, nodetype=nodetype)\n",
    "\n",
    "    return import_graph(G)"
   ]
  },
  {
   "cell_type": "markdown",
   "metadata": {},
   "source": [
    "## parse the files in fmri and dmri folders and find subjects with both fmri and dmri"
   ]
  },
  {
   "cell_type": "code",
   "execution_count": 3,
   "metadata": {},
   "outputs": [
    {
     "data": {
      "text/plain": [
       "(293, 293)"
      ]
     },
     "execution_count": 3,
     "metadata": {},
     "output_type": "execute_result"
    }
   ],
   "source": [
    "fmri_path = '../../data/HBN/fmri/desikan/'\n",
    "fmris = os.listdir(fmri_path)\n",
    "\n",
    "dmri_path = '../../data/HBN/dwi/desikan/'\n",
    "dmris = os.listdir(dmri_path)\n",
    "\n",
    "subjects = [s.split('_')[0] for s in fmris]\n",
    "subjects_unique = sorted(list(set(subjects)))\n",
    "\n",
    "subjects_corrected = []\n",
    "\n",
    "for subject in subjects_unique:\n",
    "    fmri_tmp = [f for f in fmris if subject in f]\n",
    "    dmri_tmp = [f for f in dmris if subject in f]\n",
    "    if (len(fmri_tmp) == 1) & (len(dmri_tmp) == 1):\n",
    "        subjects_corrected.append(subject)\n",
    "\n",
    "dmris_corrected = []\n",
    "fmris_corrected = []\n",
    "\n",
    "for subject in subjects_corrected:\n",
    "    for i in dmris:\n",
    "        if subject in i:\n",
    "            dmris_corrected.append(i)\n",
    "           \n",
    "    for i in fmris:\n",
    "        if subject in i:\n",
    "            fmris_corrected.append(i)\n",
    "        \n",
    "dmris_corrected\n",
    "fmris_corrected\n",
    "\n",
    "len(fmris_corrected), len(dmris_corrected)"
   ]
  },
  {
   "cell_type": "code",
   "execution_count": 4,
   "metadata": {},
   "outputs": [],
   "source": [
    "for idx in range(293):\n",
    "    f = fmris_corrected[idx].split('_')\n",
    "    d = dmris_corrected[idx].split('_')\n",
    "    \n",
    "    assert f[0] == d[0]\n",
    "    #assert f[1] == d[1]"
   ]
  },
  {
   "cell_type": "markdown",
   "metadata": {},
   "source": [
    "## Remove subjects with empty dwi or fmri scans"
   ]
  },
  {
   "cell_type": "code",
   "execution_count": 5,
   "metadata": {},
   "outputs": [],
   "source": [
    "fmris = []\n",
    "dmris = []\n",
    "\n",
    "for idx, (fmri, dmri) in enumerate(zip(fmris_corrected, dmris_corrected)):\n",
    "    fmri_graph = import_edgelist(fmri_path + fmri)\n",
    "    dmri_graph = import_edgelist(dmri_path + dmri)\n",
    "    \n",
    "    if fmri_graph.shape == dmri_graph.shape:\n",
    "        fmris.append(fmri)\n",
    "        dmris.append(dmri)\n",
    "        #fmri_graphs.append(fmri_graph)\n",
    "        #dmri_graphs.append(dmri_graph)"
   ]
  },
  {
   "cell_type": "markdown",
   "metadata": {},
   "source": [
    "## Remove subjects without any demographic information"
   ]
  },
  {
   "cell_type": "code",
   "execution_count": 6,
   "metadata": {},
   "outputs": [
    {
     "data": {
      "text/plain": [
       "291"
      ]
     },
     "execution_count": 6,
     "metadata": {},
     "output_type": "execute_result"
    }
   ],
   "source": [
    "subjects = [f.split('_')[0] for f in fmris]\n",
    "subjects = [f.split('-')[1] for f in subjects]\n",
    "\n",
    "len(subjects)"
   ]
  },
  {
   "cell_type": "code",
   "execution_count": 9,
   "metadata": {},
   "outputs": [],
   "source": [
    "df = pd.read_csv('../../data/HBN_phenotypic_data/9994_Basic_Demos_20180927.csv')"
   ]
  },
  {
   "cell_type": "code",
   "execution_count": 10,
   "metadata": {},
   "outputs": [
    {
     "data": {
      "text/html": [
       "<div>\n",
       "<style scoped>\n",
       "    .dataframe tbody tr th:only-of-type {\n",
       "        vertical-align: middle;\n",
       "    }\n",
       "\n",
       "    .dataframe tbody tr th {\n",
       "        vertical-align: top;\n",
       "    }\n",
       "\n",
       "    .dataframe thead th {\n",
       "        text-align: right;\n",
       "    }\n",
       "</style>\n",
       "<table border=\"1\" class=\"dataframe\">\n",
       "  <thead>\n",
       "    <tr style=\"text-align: right;\">\n",
       "      <th></th>\n",
       "      <th>Patient_ID</th>\n",
       "      <th>Sex</th>\n",
       "      <th>Age</th>\n",
       "    </tr>\n",
       "  </thead>\n",
       "  <tbody>\n",
       "    <tr>\n",
       "      <th>0</th>\n",
       "      <td>BASIC1_003</td>\n",
       "      <td>BASIC1_004</td>\n",
       "      <td>BASIC1_005</td>\n",
       "    </tr>\n",
       "    <tr>\n",
       "      <th>1</th>\n",
       "      <td>NDARYM832PX3</td>\n",
       "      <td>1</td>\n",
       "      <td>7.048254</td>\n",
       "    </tr>\n",
       "    <tr>\n",
       "      <th>2</th>\n",
       "      <td>NDARNJ687DMC</td>\n",
       "      <td>1</td>\n",
       "      <td>6.348163</td>\n",
       "    </tr>\n",
       "    <tr>\n",
       "      <th>3</th>\n",
       "      <td>NDARRM363BXZ</td>\n",
       "      <td>0</td>\n",
       "      <td>10.052589</td>\n",
       "    </tr>\n",
       "    <tr>\n",
       "      <th>4</th>\n",
       "      <td>NDARUW586LLL</td>\n",
       "      <td>1</td>\n",
       "      <td>12.319415</td>\n",
       "    </tr>\n",
       "  </tbody>\n",
       "</table>\n",
       "</div>"
      ],
      "text/plain": [
       "     Patient_ID         Sex         Age\n",
       "0    BASIC1_003  BASIC1_004  BASIC1_005\n",
       "1  NDARYM832PX3           1    7.048254\n",
       "2  NDARNJ687DMC           1    6.348163\n",
       "3  NDARRM363BXZ           0   10.052589\n",
       "4  NDARUW586LLL           1   12.319415"
      ]
     },
     "execution_count": 10,
     "metadata": {},
     "output_type": "execute_result"
    }
   ],
   "source": [
    "df = df[['Patient_ID', 'Sex', 'Age']]\n",
    "df.head()"
   ]
  },
  {
   "cell_type": "code",
   "execution_count": 11,
   "metadata": {},
   "outputs": [],
   "source": [
    "df.loc[df['Patient_ID'].isin(subjects)].to_csv('./subject_information.csv', index=False)"
   ]
  },
  {
   "cell_type": "code",
   "execution_count": null,
   "metadata": {},
   "outputs": [],
   "source": []
  }
 ],
 "metadata": {
  "kernelspec": {
   "display_name": "graspy",
   "language": "python",
   "name": "graspy"
  },
  "language_info": {
   "codemirror_mode": {
    "name": "ipython",
    "version": 3
   },
   "file_extension": ".py",
   "mimetype": "text/x-python",
   "name": "python",
   "nbconvert_exporter": "python",
   "pygments_lexer": "ipython3",
   "version": "3.6.5"
  }
 },
 "nbformat": 4,
 "nbformat_minor": 2
}
